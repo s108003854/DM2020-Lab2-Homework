{
 "cells": [
  {
   "cell_type": "code",
   "execution_count": null,
   "metadata": {
    "_cell_guid": "b1076dfc-b9ad-4769-8c92-a6c4dae69d19",
    "_uuid": "8f2839f25d086af736a60e9eeb907d3b93b6e0e5"
   },
   "outputs": [],
   "source": [
    "# This Python 3 environment comes with many helpful analytics libraries installed\n",
    "# It is defined by the kaggle/python Docker image: https://github.com/kaggle/docker-python\n",
    "# For example, here's several helpful packages to load\n",
    "\n",
    "import numpy as np # linear algebra\n",
    "import pandas as pd # data processing, CSV file I/O (e.g. pd.read_csv)\n",
    "\n",
    "# Input data files are available in the read-only \"../input/\" directory\n",
    "# For example, running this (by clicking run or pressing Shift+Enter) will list all files under the input directory\n",
    "\n",
    "import os\n",
    "for dirname, _, filenames in os.walk('/kaggle/input'):    \n",
    "    print(filenames)\n",
    "    for filename in filenames:\n",
    "        print(os.path.join(dirname, filename))\n",
    "\n",
    "# You can write up to 20GB to the current directory (/kaggle/working/) that gets preserved as output when you create a version using \"Save & Run All\" \n",
    "# You can also write temporary files to /kaggle/temp/, but they won't be saved outside of the current session"
   ]
  },
  {
   "cell_type": "code",
   "execution_count": null,
   "metadata": {
    "_cell_guid": "79c7e3d0-c299-4dcb-8224-4455121ee9b0",
    "_uuid": "d629ff2d2480ee46fbb7e2d37f6b5fab8052498a"
   },
   "outputs": [],
   "source": [
    "import json\n",
    "import pandas as pd\n",
    "identification_csv = pd.read_csv(\"../input/dm2020-hw2-nthu/data_identification.csv\")\n",
    "emotion_csv = pd.read_csv(\"../input/dm2020-hw2-nthu/emotion.csv\")\n",
    "\n",
    "values = []\n",
    "with open('../input/dm2020-hw2-nthu/tweets_DM.json', 'r') as tweet_data:\n",
    "    for line in tweet_data.readlines():\n",
    "        k = json.loads(line)\n",
    "        values.append(k['_source']['tweet'])  ## 轉成json陣列 以方便可以直接轉成dataFrame\n",
    "    "
   ]
  },
  {
   "cell_type": "code",
   "execution_count": null,
   "metadata": {
    "collapsed": true
   },
   "outputs": [],
   "source": [
    "raw_data = pd.DataFrame(values) \n",
    "print(raw_data)\n",
    "raw_data = raw_data.sort_values(by=['tweet_id']) ## 依照tweet_id 做排序\n",
    "identification_csv = identification_csv.sort_values(by=['tweet_id'])\n",
    "ident_dict = identification_csv.set_index('tweet_id')['identification'].to_dict()## 將dataframe轉成dict 為了取出value的陣列\n",
    "raw_data['identification'] = ident_dict.values() ## 直接加入陣列在新的column\n",
    "raw_data"
   ]
  },
  {
   "cell_type": "code",
   "execution_count": null,
   "metadata": {},
   "outputs": [],
   "source": [
    "## 依照'identification'的label做篩選 找出trainingData 和 testData\n",
    "df_train = raw_data.loc[lambda raw_data: raw_data['identification'] == 'train',:]\n",
    "df_test = raw_data.loc[lambda raw_data: raw_data['identification'] == 'test',:]\n",
    "\n",
    "## 把emotion在df_train中加入新的column\n",
    "df_train = df_train.sort_values(by=['tweet_id'])\n",
    "emotion_csv = emotion_csv.sort_values(by=['tweet_id'])\n",
    "emotion_dict = emotion_csv.set_index('tweet_id')['emotion'].to_dict()\n",
    "df_train['emotion'] = emotion_dict.values()\n",
    "print(df_train.shape)\n",
    "df_train"
   ]
  },
  {
   "cell_type": "code",
   "execution_count": null,
   "metadata": {},
   "outputs": [],
   "source": [
    "## save as pickle file\n",
    "df_train.to_pickle(\"/kaggle/working/train_df.pkl\") \n",
    "df_test.to_pickle(\"/kaggle/working/test_df.pkl\") \n"
   ]
  },
  {
   "cell_type": "code",
   "execution_count": null,
   "metadata": {},
   "outputs": [],
   "source": [
    "import pandas as pd\n",
    "# load a pickle file\n",
    "train_df = pd.read_pickle(\"../input/tt-pickle-file/train_df.pkl\")[:-5000]\n",
    "test_df =  pd.read_pickle(\"../input/tt-pickle-file/train_df.pkl\")[-5000:]\n",
    "final_test_df = pd.read_pickle(\"../input/tt-pickle-file/test_df.pkl\")"
   ]
  },
  {
   "cell_type": "code",
   "execution_count": null,
   "metadata": {},
   "outputs": [],
   "source": [
    "from sklearn.feature_extraction.text import TfidfVectorizer\n",
    "from sklearn.svm import LinearSVC\n",
    "import nltk\n",
    "# Initialize tfidf vectorizer\n",
    "tfidf_vectorizer = TfidfVectorizer(tokenizer=nltk.word_tokenize,stop_words='english', min_df=100)\n",
    "\n",
    "# Create tfidf train and test variables\n",
    "X_train_tfidf = tfidf_vectorizer.fit_transform(train_df['text']) \n",
    "y_train = train_df['emotion']\n",
    "X_test_tfidf = tfidf_vectorizer.transform(test_df['text'])\n",
    "y_test = test_df['emotion']\n",
    "\n",
    "# Create a LinearSVC model\n",
    "tfidf_svc = LinearSVC()\n",
    "\n",
    "# Train model\n",
    "tfidf_svc.fit(X_train_tfidf, y_train)\n",
    "\n",
    "# Run predict on tfidf test data to get predictions\n",
    "tfidf_svc_pred = tfidf_svc.predict(X_test_tfidf)\n",
    "\n",
    "# Calculate accuracy using the metrics module\n",
    "tfidf_svc_score = tfidf_svc.score(X_test_tfidf, y_test)\n",
    "\n",
    "print(\"LinearSVC Score:   %0.3f\" % tfidf_svc_score)\n"
   ]
  },
  {
   "cell_type": "code",
   "execution_count": null,
   "metadata": {},
   "outputs": [],
   "source": [
    "final_X_test_tfidf = tfidf_vectorizer.transform(final_test_df['text'])\n",
    "final_tfidf_svc_pred = tfidf_svc.predict(final_X_test_tfidf)\n",
    "\n",
    "final_test_df['emotion'] = final_tfidf_svc_pred\n",
    "csvData = final_test_df[['tweet_id','emotion']].to_csv('/kaggle/working/predict_01.csv',header=['id','emotion'],index=False) "
   ]
  }
 ],
 "metadata": {
  "kernelspec": {
   "display_name": "Python 3",
   "language": "python",
   "name": "python3"
  },
  "language_info": {
   "codemirror_mode": {
    "name": "ipython",
    "version": 3
   },
   "file_extension": ".py",
   "mimetype": "text/x-python",
   "name": "python",
   "nbconvert_exporter": "python",
   "pygments_lexer": "ipython3",
   "version": "3.8.3"
  }
 },
 "nbformat": 4,
 "nbformat_minor": 4
}
